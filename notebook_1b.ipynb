{
 "cells": [
  {
   "cell_type": "markdown",
   "metadata": {
    "slideshow": {
     "slide_type": "slide"
    }
   },
   "source": [
    "# Plotting TESS light curves\n",
    "\n",
    "**Advanced Astroinformatics Student Project**\n",
    "\n",
    "*N. Hernitschek, 2022*\n",
    "\n",
    "1 32"
   ]
  },
  {
   "cell_type": "markdown",
   "metadata": {},
   "source": [
    "---\n",
    "## Contents\n",
    "* [Loading light curves](#first-bullet)\n",
    "* [Plotting light curves](#second-bullet)\n",
    "* [Plotting light curves in bulk](#third-bullet)\n",
    "* [Summary](#fourth-bullet)\n"
   ]
  },
  {
   "cell_type": "markdown",
   "metadata": {},
   "source": [
    "## 1. Loading Light Curves <a class=\"anchor\" id=\"second-bullet\"></a>\n",
    "\n",
    "The github repository contains a file `data.zip` (check on the right side of the repository website, `Releases`). Download it and extract it. It should expand to about 600 MB.\n",
    "\n",
    "You will find the following subfolders:\n",
    "\n",
    "`_TESS_lightcurves_raw`\n",
    "\n",
    "`_TESS_lightcurves_median_after_detrended` \n",
    "\n",
    "`_TESS_lightcurves_outliercleaned`\n",
    "\n",
    "\n",
    "and a file `info_tess_data.txt`.\n"
   ]
  },
  {
   "cell_type": "markdown",
   "metadata": {},
   "source": [
    "Please open the file `info_tess_data.txt` and a light curve file from any of the folders to familiarize yourself with the data."
   ]
  },
  {
   "cell_type": "markdown",
   "metadata": {},
   "source": [
    "## 2. Plotting Light Curves <a class=\"anchor\" id=\"second-bullet\"></a>\n",
    "\n",
    "The next step is to make plots of those light curves.\n",
    "\n",
    "We begin with just one light curve.\n"
   ]
  },
  {
   "cell_type": "markdown",
   "metadata": {},
   "source": [
    "First, load the light curve:"
   ]
  },
  {
   "cell_type": "code",
   "execution_count": 1,
   "metadata": {},
   "outputs": [],
   "source": [
    "import numpy as np\n",
    "from concurrent.futures import as_completed\n",
    "\n",
    "import math\n",
    "import glob\n",
    "import sys\n",
    "import os\n",
    "\n",
    "import matplotlib\n",
    "matplotlib.use('PDF')\n",
    "import matplotlib.pyplot as plt \n",
    "\n",
    "import matplotlib.style\n",
    "import matplotlib as mpl\n",
    "mpl.style.use('classic')\n",
    "\n",
    "\n",
    "import pandas as pd\n"
   ]
  },
  {
   "cell_type": "code",
   "execution_count": 2,
   "metadata": {},
   "outputs": [],
   "source": [
    "data_in = pd.read_csv(\n",
    "    \"_data/_TESS_lightcurves_outliercleaned/ACV/41259805_sector01_4_2_cleaned.lc\", \n",
    "    names = ['time', 'mag', 'magerr']\n",
    "    )"
   ]
  },
  {
   "cell_type": "markdown",
   "metadata": {},
   "source": [
    "other ways to read in data: `numpy.loadtxt`\n",
    "\n",
    "We chose here `pandas` as it will enable us to do a few things more when reading in tables (you will see this later on)."
   ]
  },
  {
   "cell_type": "code",
   "execution_count": 3,
   "metadata": {},
   "outputs": [
    {
     "name": "stdout",
     "output_type": "stream",
     "text": [
      "             time        mag    magerr\n",
      "0     1325.365967  13.222690  0.004788\n",
      "1     1325.386719  13.223169  0.004790\n",
      "2     1325.407593  13.224006  0.004793\n",
      "3     1325.428467  13.224393  0.004793\n",
      "4     1325.449219  13.225105  0.004798\n",
      "...           ...        ...       ...\n",
      "1223  1353.032349  13.231553  0.004831\n",
      "1224  1353.053101  13.232067  0.004829\n",
      "1225  1353.073975  13.233518  0.004842\n",
      "1226  1353.094849  13.234316  0.004840\n",
      "1227  1353.115601  13.235259  0.004841\n",
      "\n",
      "[1228 rows x 3 columns]\n"
     ]
    }
   ],
   "source": [
    "print(data_in)"
   ]
  },
  {
   "cell_type": "markdown",
   "metadata": {},
   "source": [
    "We now plot this light curve using `matplotlib`."
   ]
  },
  {
   "cell_type": "code",
   "execution_count": 4,
   "metadata": {},
   "outputs": [],
   "source": [
    "plt.plot(data_in[\"time\"], data_in[\"mag\"], 'o', label=r'lightcurve data') \n",
    "plt.title('Lightcurve')\n",
    "plt.xlabel('time')\n",
    "plt.ylabel('mag')\n",
    "\n",
    "plt.grid(which='major')\n",
    "plt.legend(loc='lower left')\n",
    "\n",
    "## optional extras\n",
    "plt.minorticks_on()\n",
    "plt.tick_params(which='both', direction='in', tick2On=True)\n",
    "\n",
    "plt.savefig(\"outputs/n1b/n1b_2.pdf\")\n",
    "plt.clf()"
   ]
  },
  {
   "cell_type": "markdown",
   "metadata": {},
   "source": [
    "**Try to figure it out on your own first!**\n"
   ]
  },
  {
   "cell_type": "markdown",
   "metadata": {},
   "source": [
    "## 3. Plotting Light Curves in Bulk <a class=\"anchor\" id=\"third-bullet\"></a>\n",
    "\n",
    "\n",
    "The light curves are organized in folders corresponding to the\n",
    "VARIABLE STAR TYPE DESIGNATIONS IN VSX:\n",
    "\n",
    "https://www.aavso.org/vsx/index.php?view=about.vartypes\n"
   ]
  },
  {
   "cell_type": "markdown",
   "metadata": {},
   "source": [
    "Modify the plotting code so it plots:\n",
    "    a) all light curves in a given folder\n",
    "    b) all light curves in all folders.\n",
    "    \n",
    "Hints:\n",
    "- save the light curves as `*.pdf` files\n",
    "- give them meaningful file names\n",
    "- after plotting a few files successfully, you will encounter an error message. Why does this happen?"
   ]
  },
  {
   "cell_type": "code",
   "execution_count": 5,
   "metadata": {},
   "outputs": [],
   "source": [
    "def plot_ligthcurve_from_given_dir(\n",
    "    input_dir: str,\n",
    "    output_dir: str = 'outputs/',\n",
    ") -> None:\n",
    "    \"\"\"\n",
    "    Plots all lightcurves contained in given directory (input_dir).\n",
    "    \"\"\"\n",
    "\n",
    "    def _plot(\n",
    "        df: pd.DataFrame,\n",
    "        x_colname: str,\n",
    "        y_colname: str,\n",
    "        object_name: str,\n",
    "        object_vartype: str,\n",
    "        stage: str,\n",
    "        outdir: str, \n",
    "    ) -> None:\n",
    "        \"\"\"Plotting function\"\"\"\n",
    "        \n",
    "        plt.plot(df[x_colname], df[y_colname], 'o', label=r'lightcurve data') \n",
    "        \n",
    "        plt.title(object_name + ' ' + object_vartype)\n",
    "        plt.xlabel(x_colname)\n",
    "        plt.ylabel(y_colname)\n",
    "\n",
    "        plt.grid(which='major')\n",
    "        plt.legend(loc='lower left')\n",
    "\n",
    "        ## optional extras\n",
    "        #plt.minorticks_on()\n",
    "        #plt.tick_params(which='both', direction='in', tick2On=True)\n",
    "\n",
    "        plt.savefig(f\"{outdir}/{stage}_{object_vartype}_{object_name}.pdf\")\n",
    "        plt.clf()\n",
    "        plt.close()\n",
    "\n",
    "    # Column names for dataframe based on info_test_data.txt\n",
    "    column_names = {\n",
    "        '_TESS_lightcurves_raw': ['JD', 'mag', 'err'],\n",
    "        '_TESS_lightcurves_median_after_detrended': ['JD', 'mag_clean', 'mag_after_cbv', 'err'],\n",
    "        '_TESS_lightcurves_outliercleaned': ['JD','mag','err']\n",
    "    }\n",
    "\n",
    "    sep = {\n",
    "        '_TESS_lightcurves_raw': ' ',\n",
    "        '_TESS_lightcurves_median_after_detrended': ' ',\n",
    "        '_TESS_lightcurves_outliercleaned': ',',\n",
    "    }\n",
    "\n",
    "    nanvalues = [\"*********\", \"********\", \"9.999999\", \"NaN\"]\n",
    "    \n",
    "    # get all files in directory\n",
    "    files = glob.glob(input_dir + \"/*.lc\")\n",
    "    \n",
    "    # create a list of futures\n",
    "    for i, f in enumerate(files):\n",
    "        print(f)\n",
    "        stage = f.split('/')[-3] \n",
    "        vtype = f.split('/')[-2]\n",
    "        fname = f.split('/')[-1].replace('.lc', '')\n",
    "        df = pd.read_csv(f, names=column_names[stage], sep=sep[stage], dtype=np.float64, na_values=nanvalues,).dropna(how='all')\n",
    "        _plot(df, column_names[stage][0], column_names[stage][1], fname, vtype, stage, output_dir)\n",
    "        \n",
    "        # Limit\n",
    "        # if i >= 10:\n",
    "        #     break\n"
   ]
  },
  {
   "cell_type": "code",
   "execution_count": 6,
   "metadata": {},
   "outputs": [
    {
     "name": "stdout",
     "output_type": "stream",
     "text": [
      "_data/_TESS_lightcurves_outliercleaned/ACV/308452159_sector01_4_3_cleaned.lc\n",
      "_data/_TESS_lightcurves_outliercleaned/ACV/349409844_sector01_4_3_cleaned.lc\n",
      "_data/_TESS_lightcurves_outliercleaned/ACV/358467700_sector01_4_3_cleaned.lc\n",
      "_data/_TESS_lightcurves_outliercleaned/ACV/327597288_sector01_2_1_cleaned.lc\n",
      "_data/_TESS_lightcurves_outliercleaned/ACV/270304671_sector01_1_3_cleaned.lc\n",
      "_data/_TESS_lightcurves_outliercleaned/ACV/41259805_sector01_4_2_cleaned.lc\n",
      "_data/_TESS_lightcurves_outliercleaned/ACV/382512330_sector01_4_3_cleaned.lc\n",
      "_data/_TESS_lightcurves_outliercleaned/ACV/306893839_sector01_4_3_cleaned.lc\n",
      "_data/_TESS_lightcurves_outliercleaned/ACV/364424408_sector01_4_2_cleaned.lc\n",
      "_data/_TESS_lightcurves_outliercleaned/ACV/404807716_sector01_4_2_cleaned.lc\n",
      "_data/_TESS_lightcurves_outliercleaned/ACV/369220372_sector01_1_1_cleaned.lc\n",
      "_data/_TESS_lightcurves_outliercleaned/ACV/277688819_sector01_2_1_cleaned.lc\n",
      "_data/_TESS_lightcurves_outliercleaned/ACV/441155956_sector01_1_3_cleaned.lc\n",
      "_data/_TESS_lightcurves_outliercleaned/ACV/348898673_sector01_4_3_cleaned.lc\n",
      "_data/_TESS_lightcurves_outliercleaned/ACV/309148260_sector01_4_3_cleaned.lc\n",
      "_data/_TESS_lightcurves_outliercleaned/ACV/355650641_sector01_2_2_cleaned.lc\n",
      "_data/_TESS_lightcurves_outliercleaned/ACV/410451777_sector01_4_3_cleaned.lc\n",
      "_data/_TESS_lightcurves_outliercleaned/ACV/350146577_sector01_4_3_cleaned.lc\n",
      "_data/_TESS_lightcurves_outliercleaned/ACV/392761412_sector01_3_2_cleaned.lc\n",
      "_data/_TESS_lightcurves_outliercleaned/ACV/92705248_sector01_1_1_cleaned.lc\n",
      "_data/_TESS_lightcurves_outliercleaned/ACV/238869272_sector01_3_2_cleaned.lc\n"
     ]
    }
   ],
   "source": [
    "plot_ligthcurve_from_given_dir('_data/_TESS_lightcurves_outliercleaned/ACV', 'outputs/n1b/3a/')"
   ]
  },
  {
   "cell_type": "code",
   "execution_count": 7,
   "metadata": {},
   "outputs": [],
   "source": [
    "def plot_all_lightcurves(\n",
    "    input_dir: str,\n",
    "    output_dir: str = 'outputs/',\n",
    ") -> None:\n",
    "    files = glob.glob(f\"{input_dir}/**/\", recursive = True)\n",
    "    for i, f in enumerate(files):\n",
    "        plot_ligthcurve_from_given_dir(f, output_dir)"
   ]
  },
  {
   "cell_type": "code",
   "execution_count": null,
   "metadata": {},
   "outputs": [],
   "source": [
    "plot_all_lightcurves(\"_data\", 'outputs/n1b/3b/')"
   ]
  },
  {
   "cell_type": "markdown",
   "metadata": {},
   "source": [
    "**Your tasks until next week:**"
   ]
  },
  {
   "cell_type": "markdown",
   "metadata": {},
   "source": [
    "Modify the plotting code to plot three panels for each light curve: raw, median after CBV, outlier cleaned.\n",
    "\n",
    "If you have more time, look up variable star types on the VSX website."
   ]
  },
  {
   "cell_type": "markdown",
   "metadata": {},
   "source": [
    "Code used for testing\n",
    "\n",
    "```python\n",
    "\n",
    "# _TESS_lightcurves_raw\n",
    "# columns: 'JD','mag','err'\n",
    "# Example: _TESS_lightcurves_raw/ACV/41259805_sector01_4_2.lc\n",
    "\n",
    "# _TESS_lightcurves_median_after_detrended\n",
    "# columns: 'JD', 'mag_clean', 'mag_after_cbv', 'err'\n",
    "# Example: _TESS_lightcurves_median_after_detrended/_lc_median_after_cbv_detrended_ACV/41259805_sector01_4_2.lc\n",
    "\n",
    "# _TESS_lightcurves_outliercleaned\n",
    "# columns: 'JD','mag','err'\n",
    "# Example: _TESS_lightcurves_outliercleaned/ACV/41259805_sector01_4_2_cleaned.lc\n",
    "\n",
    "\n",
    "df_raw = pd.read_csv('_data/_TESS_lightcurves_raw/ACV/41259805_sector01_4_2.lc', names=['JD','mag','err'], sep=' ').dropna(how='all')\n",
    "df_med_detrend = pd.read_csv('_data/_TESS_lightcurves_median_after_detrended/_lc_median_after_cbv_detrended_ACV/41259805_sector01_4_2.lc', names=['JD', 'mag_clean', 'mag_after_cbv', 'err'], sep=' ').dropna(how='all')\n",
    "df_outlier_clean = pd.read_csv('_data/_TESS_lightcurves_outliercleaned/ACV/41259805_sector01_4_2_cleaned.lc', names=['JD','mag','err']).dropna(how='all')\n",
    "\n",
    "plt.figure(figsize=(8, 12))\n",
    "plt.suptitle(\"41259805\")\n",
    "\n",
    "ax = plt.subplot(311)\n",
    "plt.plot(df_raw['JD'], df_raw['mag'], '.-', label='raw')\n",
    "plt.ylabel(\"mag\")\n",
    "plt.legend(loc='upper left')\n",
    "\n",
    "plt.subplot(312, sharex=ax)\n",
    "plt.plot(df_med_detrend['JD'], df_med_detrend['mag_after_cbv'], '.-', label='median after detrended')\n",
    "plt.ylabel(\"mag\")\n",
    "plt.legend(loc='upper left')\n",
    "\n",
    "plt.subplot(313, sharex=ax)\n",
    "plt.plot(df_outlier_clean['JD'], df_outlier_clean['mag'], '.-', label='outlier cleaned')\n",
    "plt.ylabel(\"mag\")\n",
    "plt.xlabel(\"JD\")\n",
    "plt.legend(loc='upper left')\n",
    "\n",
    "plt.savefig(\"test.pdf\")\n",
    "plt.clf()\n",
    "plt.close()\n",
    "```"
   ]
  },
  {
   "cell_type": "code",
   "execution_count": 8,
   "metadata": {},
   "outputs": [],
   "source": [
    "def plot_lightcurves(\n",
    "    df_raw:pd.DataFrame,\n",
    "    df_med_detrend:pd.DataFrame, \n",
    "    df_outlier_clean:pd.DataFrame, \n",
    "    object_name:str, \n",
    "    output_dir: str = 'outputs/',\n",
    ") -> None:\n",
    "\n",
    "    plt.figure(figsize=(8, 12))\n",
    "    plt.suptitle(object_name)\n",
    "\n",
    "    ax = plt.subplot(311)\n",
    "    plt.plot(df_raw['JD'], df_raw['mag'], '.-', label='raw')\n",
    "    plt.ylabel(\"mag\")\n",
    "    plt.legend(loc='upper left')\n",
    "\n",
    "    plt.subplot(312, sharex=ax)\n",
    "    plt.plot(df_med_detrend['JD'], df_med_detrend['mag_after_cbv'], '.-', label='median after detrended')\n",
    "    plt.ylabel(\"mag\")\n",
    "    plt.legend(loc='upper left')\n",
    "\n",
    "    plt.subplot(313, sharex=ax)\n",
    "    plt.plot(df_outlier_clean['JD'], df_outlier_clean['mag'], '.-', label='outlier cleaned')\n",
    "    plt.ylabel(\"mag\")\n",
    "    plt.xlabel(\"JD\")\n",
    "    plt.legend(loc='upper left')\n",
    "\n",
    "\n",
    "    plt.savefig(f\"{output_dir}{object_name}.pdf\")\n",
    "    plt.clf()\n",
    "    plt.close()"
   ]
  },
  {
   "cell_type": "code",
   "execution_count": null,
   "metadata": {},
   "outputs": [],
   "source": [
    "# Match lightcurves with the same id and variability type\n",
    "grouped_files = {}\n",
    "list_raw_files = glob.glob('_data/_TESS_lightcurves_raw/**/*.lc')\n",
    "\n",
    "for i, fpath in enumerate(list_raw_files):\n",
    "    vtype, filename = fpath.split(\"/\")[-2:]  # extract variable type classification and filename (unique id)\n",
    "    filename = filename.replace(\".lc\", \"\")  # remove .lc from filename\n",
    "    matching_files = glob.glob(f\"_data/**/*{vtype}/{filename}*.lc\", recursive = True)  # find all files with the same id\n",
    "    matching_files.sort()  # now files are in fixed order\n",
    "    grouped_files[vtype + '_' + filename] = matching_files\n",
    "    \n",
    "    # Test only few objects\n",
    "    # if i == 10:\n",
    "    #     break\n",
    "\n",
    "    "
   ]
  },
  {
   "cell_type": "code",
   "execution_count": null,
   "metadata": {},
   "outputs": [],
   "source": [
    "NANVALUES = [\"*********\", \"********\", \"9.999999\", \"NaN\"]\n",
    "\n",
    "for id, fileset in grouped_files.items():\n",
    "    df_raw = pd.read_csv(fileset[2], names=['JD','mag','err'], sep=' ', dtype=np.float64, na_values=NANVALUES).dropna(how='all')\n",
    "    df_med_detrend = pd.read_csv(fileset[0], names=['JD', 'mag_clean', 'mag_after_cbv', 'err'], sep=' ', dtype=np.float64, na_values=NANVALUES).dropna(how='all')\n",
    "    df_outlier_clean = pd.read_csv(fileset[1], names=['JD','mag','err'], dtype=np.float64, na_values=NANVALUES).dropna(how='all')\n",
    "\n",
    "    plot_lightcurves(df_raw, df_med_detrend, df_outlier_clean, id, 'outputs/n1b/3c/')"
   ]
  },
  {
   "cell_type": "markdown",
   "metadata": {
    "slideshow": {
     "slide_type": "slide"
    }
   },
   "source": [
    "## Summary <a class=\"anchor\" id=\"fourth-bullet\"></a>\n",
    "\n",
    "At this point, all of you should have:\n",
    "* seen how to open tables (i.e.: light curves) in Python\n",
    "* plotted light curves in Python using `matplotlib`\n",
    "* removed `NaN` values from light curves."
   ]
  }
 ],
 "metadata": {
  "anaconda-cloud": {},
  "interpreter": {
   "hash": "7c6734141a65471e905a2515875e1c91e41dfb1a2f4fe6828aa977f658d2585b"
  },
  "kernelspec": {
   "display_name": "Python 3.10.4 ('py310')",
   "language": "python",
   "name": "python3"
  },
  "language_info": {
   "codemirror_mode": {
    "name": "ipython",
    "version": 3
   },
   "file_extension": ".py",
   "mimetype": "text/x-python",
   "name": "python",
   "nbconvert_exporter": "python",
   "pygments_lexer": "ipython3",
   "version": "3.10.4"
  }
 },
 "nbformat": 4,
 "nbformat_minor": 1
}
